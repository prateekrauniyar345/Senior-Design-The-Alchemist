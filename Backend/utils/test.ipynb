{
 "cells": [
  {
   "cell_type": "code",
   "execution_count": 1,
   "id": "35f0f993",
   "metadata": {},
   "outputs": [
    {
     "name": "stdout",
     "output_type": "stream",
     "text": [
      "hi\n"
     ]
    }
   ],
   "source": [
    "print(\"hi\")"
   ]
  },
  {
   "cell_type": "code",
   "execution_count": 2,
   "id": "ef63e664",
   "metadata": {},
   "outputs": [],
   "source": [
    "import os"
   ]
  },
  {
   "cell_type": "code",
   "execution_count": null,
   "id": "e30bb135",
   "metadata": {},
   "outputs": [
    {
     "name": "stdout",
     "output_type": "stream",
     "text": [
      "Current working directory: /Users/prateekrauniyar/Documents/SeniorDeisgn The Alchemist/Backend/utils\n"
     ]
    }
   ],
   "source": [
    "# cwd will give the current working directory whihc is the root directory of the project\n",
    "cwd = os.getcwd() \n",
    "print(f\"Current working directory: {cwd}\")"
   ]
  },
  {
   "cell_type": "code",
   "execution_count": 8,
   "id": "63c06f91",
   "metadata": {},
   "outputs": [
    {
     "name": "stdout",
     "output_type": "stream",
     "text": [
      "Parent directory: /Users/prateekrauniyar/Documents/SeniorDeisgn The Alchemist/Backend\n",
      "Sample data path: /Users/prateekrauniyar/Documents/SeniorDeisgn The Alchemist/Backend/contents/sample_data\n",
      "Path exists.\n"
     ]
    }
   ],
   "source": [
    "from pathlib import Path\n",
    "\n",
    "curent_dir = Path.cwd()\n",
    "# get the parent directory\n",
    "parent_dir = curent_dir.parent\n",
    "print(f\"Parent directory: {parent_dir}\")\n",
    "\n",
    "# constructt the path for the contents/sample_data directory\n",
    "sample_data_path = parent_dir / 'contents' / 'sample_data'\n",
    "print(f\"Sample data path: {sample_data_path}\") \n",
    "\n",
    "# check if the path exits\n",
    "if not sample_data_path.exists():\n",
    "    print(\"Path does not exist.\")\n",
    "else:\n",
    "    print(\"Path exists.\")\n",
    "\n"
   ]
  },
  {
   "cell_type": "code",
   "execution_count": null,
   "id": "2fa8b384",
   "metadata": {},
   "outputs": [],
   "source": []
  }
 ],
 "metadata": {
  "kernelspec": {
   "display_name": ".venv",
   "language": "python",
   "name": "python3"
  },
  "language_info": {
   "codemirror_mode": {
    "name": "ipython",
    "version": 3
   },
   "file_extension": ".py",
   "mimetype": "text/x-python",
   "name": "python",
   "nbconvert_exporter": "python",
   "pygments_lexer": "ipython3",
   "version": "3.13.3"
  }
 },
 "nbformat": 4,
 "nbformat_minor": 5
}
